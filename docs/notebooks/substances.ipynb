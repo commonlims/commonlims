{
 "cells": [
  {
   "cell_type": "code",
   "execution_count": 1,
   "metadata": {},
   "outputs": [
    {
     "name": "stderr",
     "output_type": "stream",
     "text": [
      "/home/stest683/.pyenv/versions/2.7.15/envs/clims2/lib/python2.7/site-packages/psycopg2/__init__.py:144: UserWarning: The psycopg2 wheel package will be renamed from release 2.8; in order to keep installing from binary please use \"pip install psycopg2-binary\" instead. For details see: <http://initd.org/psycopg/docs/install.html#binary-install-from-pypi>.\n",
      "  \"\"\")\n"
     ]
    }
   ],
   "source": [
    "%run ./startup.py"
   ]
  },
  {
   "cell_type": "markdown",
   "metadata": {},
   "source": [
    "# Substances \n",
    "\n",
    "Samples are instances of `Substance`s. `Substance`s in turn are what we call `Extensible`. Such objects can be extended by plugins in a simple way. \n",
    "\n",
    "## Creating a custom sample type\n",
    "\n",
    "Let's imagine that the Icelandic Wood Fibre Centre wants to install the LIMS for their research. They would probably require a sample type that is not that much alike one used in, let's say genomics.\n",
    "\n",
    "After discussions with domain specialists, they decide they need the following custom fields:\n",
    "\n",
    "* flammability \n",
    "* weight \n",
    "* width\n",
    "* comment\n",
    "\n",
    "In Commmon LIMS, this is defined in a plugin by creating a class that inherits from SubstanceBase: "
   ]
  },
  {
   "cell_type": "code",
   "execution_count": 2,
   "metadata": {},
   "outputs": [],
   "source": [
    "class WoodSample(SubstanceBase):\n",
    "    flammability = FloatField(\"flammability\") \n",
    "    weight = FloatField(\"weight\")\n",
    "    width = FloatField(\"width\")\n",
    "    comment = TextField(\"comment\")"
   ]
  },
  {
   "cell_type": "markdown",
   "metadata": {},
   "source": [
    "## Registering the new type\n",
    "\n",
    "To register the type, the user will just have to pip install their plugin and then run upgrade, like this:\n",
    "\n",
    "```\n",
    "pip install icelandic_wood_fibre_centre\n",
    "lims upgrade\n",
    "```\n",
    "\n",
    "Here, we'll simulate that with the equivelant programmatic version:"
   ]
  },
  {
   "cell_type": "code",
   "execution_count": 3,
   "metadata": {},
   "outputs": [
    {
     "data": {
      "text/plain": [
       "<ExtensibleType at 0x7f42fe6f89d0: id=2L, name=u'__main__.WoodSample'>"
      ]
     },
     "execution_count": 3,
     "metadata": {},
     "output_type": "execute_result"
    }
   ],
   "source": [
    "app.extensibles.register(notebook_plugin, WoodSample)"
   ]
  },
  {
   "cell_type": "markdown",
   "metadata": {},
   "source": [
    "## Using the newly registered type in handlers\n",
    "\n",
    "Plugin developers can now easily create samples of their custom type. Since the type is a `Substance` it will get the following features out of the box:\n",
    "\n",
    "* Immutability - all changes lead to new versions in the database\n",
    "* Version history\n",
    "* Ancestry: Create children (aliquots) from parent samples, retaining all the information from the parent\n",
    "\n",
    "Here are a few examples:"
   ]
  },
  {
   "cell_type": "code",
   "execution_count": 4,
   "metadata": {},
   "outputs": [
    {
     "name": "stdout",
     "output_type": "stream",
     "text": [
      "Created: sample-723202, version 1, created 2019-10-08 08:04:41.065755+00:00\n"
     ]
    }
   ],
   "source": [
    "# Create a new sample:\n",
    "import random\n",
    "name = \"sample-{}\".format(random.randint(1, 1000000))\n",
    "sample = WoodSample(name=name, organization=org, _app=app)\n",
    "sample.save()\n",
    "\n",
    "print(\"Created: {}, version {}, created {}\".format(\n",
    "    sample.name, sample.version, sample.created_at))"
   ]
  },
  {
   "cell_type": "code",
   "execution_count": 5,
   "metadata": {},
   "outputs": [
    {
     "name": "stdout",
     "output_type": "stream",
     "text": [
      "Updated: sample-723202, version 2\n"
     ]
    }
   ],
   "source": [
    "# Now, let's add a few properties to this sample and see if the version changes:\n",
    "sample.flammability = 0.9\n",
    "sample.weight = 1\n",
    "sample.comment = \"Looks good to me!\"\n",
    "sample.save()\n",
    "\n",
    "print(\"Updated: {}, version {}\".format(sample.name, sample.version))"
   ]
  },
  {
   "cell_type": "code",
   "execution_count": 6,
   "metadata": {},
   "outputs": [
    {
     "name": "stdout",
     "output_type": "stream",
     "text": [
      "Created: sample-723202-aliquot, version 1\n"
     ]
    }
   ],
   "source": [
    "# Let's create an aliquot:\n",
    "aliquot = sample.create_child(name=sample.name + \"-aliquot\")\n",
    "print(\"Created: {}, version {}\".format(aliquot.name, aliquot.version))"
   ]
  },
  {
   "cell_type": "code",
   "execution_count": 7,
   "metadata": {},
   "outputs": [
    {
     "name": "stdout",
     "output_type": "stream",
     "text": [
      "0.9\n",
      "1.0\n",
      "Looks good to me!\n"
     ]
    }
   ],
   "source": [
    "# By default, this aliquot has the same values as the parent:\n",
    "\n",
    "print(aliquot.flammability)\n",
    "print(aliquot.weight)\n",
    "print(aliquot.comment)"
   ]
  },
  {
   "cell_type": "code",
   "execution_count": 8,
   "metadata": {},
   "outputs": [],
   "source": [
    "# It's up to the plugin handlers what happens to a sample, let's for example\n",
    "# cut the weight in half:\n",
    "\n",
    "aliquot.weight *= 0.5\n",
    "aliquot.comment = \"No this actually looks bad\"\n",
    "aliquot.save()\n",
    "sample.weight -= aliquot.weight\n",
    "sample.save()"
   ]
  },
  {
   "cell_type": "code",
   "execution_count": 9,
   "metadata": {},
   "outputs": [
    {
     "name": "stdout",
     "output_type": "stream",
     "text": [
      "0.9\n",
      "0.5\n",
      "No this actually looks bad\n"
     ]
    }
   ],
   "source": [
    "print(aliquot.flammability)\n",
    "print(aliquot.weight)\n",
    "print(aliquot.comment)"
   ]
  },
  {
   "cell_type": "markdown",
   "metadata": {},
   "source": [
    "## Viewing historical data"
   ]
  },
  {
   "cell_type": "code",
   "execution_count": 10,
   "metadata": {},
   "outputs": [
    {
     "name": "stdout",
     "output_type": "stream",
     "text": [
      "*** Sample property history ***\n",
      "1: {}\n",
      "2: {u'comment': u'Looks good to me!', u'flammability': 0.9, u'weight': 1.0}\n",
      "3: {u'comment': u'Looks good to me!', u'flammability': 0.9, u'weight': 0.5}\n",
      "\n",
      "\n",
      "*** Aliquot property history ***\n",
      "1: {u'comment': u'Looks good to me!', u'flammability': 0.9, u'weight': 1.0}\n",
      "2: {u'comment': u'No this actually looks bad', u'flammability': 0.9, u'weight': 0.5}\n",
      "\n",
      "\n"
     ]
    }
   ],
   "source": [
    "# We can trace the exact changes of both the aliquot and the sample\n",
    "# NOTE: The API for this will be more user friendly later\n",
    "\n",
    "def report(header, sample):\n",
    "    print(header)\n",
    "    for s in sample.iter_versions():\n",
    "        print(\"{}: {}\".format(\n",
    "            s.version, {key: prop.value for key, prop in s.properties.items()}))\n",
    "    print(\"\")\n",
    "    print(\"\")\n",
    "\n",
    "report(\"*** Sample property history ***\", sample)\n",
    "report(\"*** Aliquot property history ***\", aliquot)"
   ]
  },
  {
   "cell_type": "code",
   "execution_count": 11,
   "metadata": {},
   "outputs": [
    {
     "data": {
      "image/svg+xml": [
       "<?xml version=\"1.0\" encoding=\"UTF-8\" standalone=\"no\"?>\n",
       "<!DOCTYPE svg PUBLIC \"-//W3C//DTD SVG 1.1//EN\"\n",
       " \"http://www.w3.org/Graphics/SVG/1.1/DTD/svg11.dtd\">\n",
       "<!-- Generated by graphviz version 2.38.0 (20140413.2041)\n",
       " -->\n",
       "<!-- Title: structs Pages: 1 -->\n",
       "<svg width=\"632pt\" height=\"511pt\"\n",
       " viewBox=\"0.00 0.00 632.00 511.00\" xmlns=\"http://www.w3.org/2000/svg\" xmlns:xlink=\"http://www.w3.org/1999/xlink\">\n",
       "<g id=\"graph0\" class=\"graph\" transform=\"scale(1 1) rotate(0) translate(4 507)\">\n",
       "<title>structs</title>\n",
       "<polygon fill=\"white\" stroke=\"none\" points=\"-4,4 -4,-507 628,-507 628,4 -4,4\"/>\n",
       "<!-- node_6_v1 -->\n",
       "<g id=\"node1\" class=\"node\"><title>node_6_v1</title>\n",
       "<polygon fill=\"none\" stroke=\"black\" points=\"176,-456.5 176,-502.5 447,-502.5 447,-456.5 176,-456.5\"/>\n",
       "<text text-anchor=\"middle\" x=\"311.5\" y=\"-487.3\" font-family=\"Times,serif\" font-size=\"14.00\">sample&#45;723202.v1</text>\n",
       "<polyline fill=\"none\" stroke=\"black\" points=\"176,-479.5 447,-479.5 \"/>\n",
       "<text text-anchor=\"middle\" x=\"204\" y=\"-464.3\" font-family=\"Times,serif\" font-size=\"14.00\">created</text>\n",
       "<polyline fill=\"none\" stroke=\"black\" points=\"232,-456.5 232,-479.5 \"/>\n",
       "<text text-anchor=\"middle\" x=\"339.5\" y=\"-464.3\" font-family=\"Times,serif\" font-size=\"14.00\">2019&#45;10&#45;08 08:04:41.065755+00:00</text>\n",
       "</g>\n",
       "<!-- node_6_v2 -->\n",
       "<g id=\"node2\" class=\"node\"><title>node_6_v2</title>\n",
       "<polygon fill=\"none\" stroke=\"black\" points=\"160,-304.5 160,-419.5 463,-419.5 463,-304.5 160,-304.5\"/>\n",
       "<text text-anchor=\"middle\" x=\"311.5\" y=\"-404.3\" font-family=\"Times,serif\" font-size=\"14.00\">sample&#45;723202.v2</text>\n",
       "<polyline fill=\"none\" stroke=\"black\" points=\"160,-396.5 463,-396.5 \"/>\n",
       "<text text-anchor=\"middle\" x=\"204\" y=\"-381.3\" font-family=\"Times,serif\" font-size=\"14.00\">comment</text>\n",
       "<polyline fill=\"none\" stroke=\"black\" points=\"160,-373.5 248,-373.5 \"/>\n",
       "<text text-anchor=\"middle\" x=\"204\" y=\"-358.3\" font-family=\"Times,serif\" font-size=\"14.00\">flammability</text>\n",
       "<polyline fill=\"none\" stroke=\"black\" points=\"160,-350.5 248,-350.5 \"/>\n",
       "<text text-anchor=\"middle\" x=\"204\" y=\"-335.3\" font-family=\"Times,serif\" font-size=\"14.00\">weight</text>\n",
       "<polyline fill=\"none\" stroke=\"black\" points=\"160,-327.5 248,-327.5 \"/>\n",
       "<text text-anchor=\"middle\" x=\"204\" y=\"-312.3\" font-family=\"Times,serif\" font-size=\"14.00\">created</text>\n",
       "<polyline fill=\"none\" stroke=\"black\" points=\"248,-304.5 248,-396.5 \"/>\n",
       "<text text-anchor=\"middle\" x=\"355.5\" y=\"-381.3\" font-family=\"Times,serif\" font-size=\"14.00\">Looks good to me!</text>\n",
       "<polyline fill=\"none\" stroke=\"black\" points=\"248,-373.5 463,-373.5 \"/>\n",
       "<text text-anchor=\"middle\" x=\"355.5\" y=\"-358.3\" font-family=\"Times,serif\" font-size=\"14.00\">0.9</text>\n",
       "<polyline fill=\"none\" stroke=\"black\" points=\"248,-350.5 463,-350.5 \"/>\n",
       "<text text-anchor=\"middle\" x=\"355.5\" y=\"-335.3\" font-family=\"Times,serif\" font-size=\"14.00\">1.0</text>\n",
       "<polyline fill=\"none\" stroke=\"black\" points=\"248,-327.5 463,-327.5 \"/>\n",
       "<text text-anchor=\"middle\" x=\"355.5\" y=\"-312.3\" font-family=\"Times,serif\" font-size=\"14.00\">2019&#45;10&#45;08 08:04:41.065755+00:00</text>\n",
       "</g>\n",
       "<!-- node_6_v1&#45;&gt;node_6_v2 -->\n",
       "<g id=\"edge1\" class=\"edge\"><title>node_6_v1&#45;&gt;node_6_v2</title>\n",
       "<path fill=\"none\" stroke=\"black\" stroke-dasharray=\"5,2\" d=\"M311.5,-456.23C311.5,-448.528 311.5,-439.451 311.5,-430.035\"/>\n",
       "<polygon fill=\"black\" stroke=\"black\" points=\"315,-429.735 311.5,-419.735 308,-429.735 315,-429.735\"/>\n",
       "</g>\n",
       "<!-- node_6_v3 -->\n",
       "<g id=\"node3\" class=\"node\"><title>node_6_v3</title>\n",
       "<polygon fill=\"none\" stroke=\"black\" points=\"0,-152.5 0,-267.5 303,-267.5 303,-152.5 0,-152.5\"/>\n",
       "<text text-anchor=\"middle\" x=\"151.5\" y=\"-252.3\" font-family=\"Times,serif\" font-size=\"14.00\">sample&#45;723202.v3</text>\n",
       "<polyline fill=\"none\" stroke=\"black\" points=\"0,-244.5 303,-244.5 \"/>\n",
       "<text text-anchor=\"middle\" x=\"44\" y=\"-229.3\" font-family=\"Times,serif\" font-size=\"14.00\">comment</text>\n",
       "<polyline fill=\"none\" stroke=\"black\" points=\"0,-221.5 88,-221.5 \"/>\n",
       "<text text-anchor=\"middle\" x=\"44\" y=\"-206.3\" font-family=\"Times,serif\" font-size=\"14.00\">flammability</text>\n",
       "<polyline fill=\"none\" stroke=\"black\" points=\"0,-198.5 88,-198.5 \"/>\n",
       "<text text-anchor=\"middle\" x=\"44\" y=\"-183.3\" font-family=\"Times,serif\" font-size=\"14.00\">weight</text>\n",
       "<polyline fill=\"none\" stroke=\"black\" points=\"0,-175.5 88,-175.5 \"/>\n",
       "<text text-anchor=\"middle\" x=\"44\" y=\"-160.3\" font-family=\"Times,serif\" font-size=\"14.00\">created</text>\n",
       "<polyline fill=\"none\" stroke=\"black\" points=\"88,-152.5 88,-244.5 \"/>\n",
       "<text text-anchor=\"middle\" x=\"195.5\" y=\"-229.3\" font-family=\"Times,serif\" font-size=\"14.00\">Looks good to me!</text>\n",
       "<polyline fill=\"none\" stroke=\"black\" points=\"88,-221.5 303,-221.5 \"/>\n",
       "<text text-anchor=\"middle\" x=\"195.5\" y=\"-206.3\" font-family=\"Times,serif\" font-size=\"14.00\">0.9</text>\n",
       "<polyline fill=\"none\" stroke=\"black\" points=\"88,-198.5 303,-198.5 \"/>\n",
       "<text text-anchor=\"middle\" x=\"195.5\" y=\"-183.3\" font-family=\"Times,serif\" font-size=\"14.00\">0.5</text>\n",
       "<polyline fill=\"none\" stroke=\"black\" points=\"88,-175.5 303,-175.5 \"/>\n",
       "<text text-anchor=\"middle\" x=\"195.5\" y=\"-160.3\" font-family=\"Times,serif\" font-size=\"14.00\">2019&#45;10&#45;08 08:04:41.065755+00:00</text>\n",
       "</g>\n",
       "<!-- node_6_v2&#45;&gt;node_6_v3 -->\n",
       "<g id=\"edge2\" class=\"edge\"><title>node_6_v2&#45;&gt;node_6_v3</title>\n",
       "<path fill=\"none\" stroke=\"black\" stroke-dasharray=\"5,2\" d=\"M251.011,-304.291C240.685,-294.611 229.898,-284.498 219.396,-274.652\"/>\n",
       "<polygon fill=\"black\" stroke=\"black\" points=\"221.498,-271.826 211.809,-267.54 216.711,-276.933 221.498,-271.826\"/>\n",
       "</g>\n",
       "<!-- node_7_v1 -->\n",
       "<g id=\"node4\" class=\"node\"><title>node_7_v1</title>\n",
       "<polygon fill=\"none\" stroke=\"black\" points=\"321,-152.5 321,-267.5 624,-267.5 624,-152.5 321,-152.5\"/>\n",
       "<text text-anchor=\"middle\" x=\"472.5\" y=\"-252.3\" font-family=\"Times,serif\" font-size=\"14.00\">sample&#45;723202&#45;aliquot.v1</text>\n",
       "<polyline fill=\"none\" stroke=\"black\" points=\"321,-244.5 624,-244.5 \"/>\n",
       "<text text-anchor=\"middle\" x=\"365\" y=\"-229.3\" font-family=\"Times,serif\" font-size=\"14.00\">comment</text>\n",
       "<polyline fill=\"none\" stroke=\"black\" points=\"321,-221.5 409,-221.5 \"/>\n",
       "<text text-anchor=\"middle\" x=\"365\" y=\"-206.3\" font-family=\"Times,serif\" font-size=\"14.00\">flammability</text>\n",
       "<polyline fill=\"none\" stroke=\"black\" points=\"321,-198.5 409,-198.5 \"/>\n",
       "<text text-anchor=\"middle\" x=\"365\" y=\"-183.3\" font-family=\"Times,serif\" font-size=\"14.00\">weight</text>\n",
       "<polyline fill=\"none\" stroke=\"black\" points=\"321,-175.5 409,-175.5 \"/>\n",
       "<text text-anchor=\"middle\" x=\"365\" y=\"-160.3\" font-family=\"Times,serif\" font-size=\"14.00\">created</text>\n",
       "<polyline fill=\"none\" stroke=\"black\" points=\"409,-152.5 409,-244.5 \"/>\n",
       "<text text-anchor=\"middle\" x=\"516.5\" y=\"-229.3\" font-family=\"Times,serif\" font-size=\"14.00\">Looks good to me!</text>\n",
       "<polyline fill=\"none\" stroke=\"black\" points=\"409,-221.5 624,-221.5 \"/>\n",
       "<text text-anchor=\"middle\" x=\"516.5\" y=\"-206.3\" font-family=\"Times,serif\" font-size=\"14.00\">0.9</text>\n",
       "<polyline fill=\"none\" stroke=\"black\" points=\"409,-198.5 624,-198.5 \"/>\n",
       "<text text-anchor=\"middle\" x=\"516.5\" y=\"-183.3\" font-family=\"Times,serif\" font-size=\"14.00\">1.0</text>\n",
       "<polyline fill=\"none\" stroke=\"black\" points=\"409,-175.5 624,-175.5 \"/>\n",
       "<text text-anchor=\"middle\" x=\"516.5\" y=\"-160.3\" font-family=\"Times,serif\" font-size=\"14.00\">2019&#45;10&#45;08 08:04:41.120522+00:00</text>\n",
       "</g>\n",
       "<!-- node_6_v2&#45;&gt;node_7_v1 -->\n",
       "<g id=\"edge3\" class=\"edge\"><title>node_6_v2&#45;&gt;node_7_v1</title>\n",
       "<path fill=\"none\" stroke=\"black\" d=\"M372.367,-304.291C382.858,-294.517 393.823,-284.302 404.488,-274.365\"/>\n",
       "<polygon fill=\"black\" stroke=\"black\" points=\"406.883,-276.917 411.814,-267.54 402.111,-271.796 406.883,-276.917\"/>\n",
       "</g>\n",
       "<!-- node_7_v2 -->\n",
       "<g id=\"node5\" class=\"node\"><title>node_7_v2</title>\n",
       "<polygon fill=\"none\" stroke=\"black\" points=\"321,-0.5 321,-115.5 624,-115.5 624,-0.5 321,-0.5\"/>\n",
       "<text text-anchor=\"middle\" x=\"472.5\" y=\"-100.3\" font-family=\"Times,serif\" font-size=\"14.00\">sample&#45;723202&#45;aliquot.v2</text>\n",
       "<polyline fill=\"none\" stroke=\"black\" points=\"321,-92.5 624,-92.5 \"/>\n",
       "<text text-anchor=\"middle\" x=\"365\" y=\"-77.3\" font-family=\"Times,serif\" font-size=\"14.00\">comment</text>\n",
       "<polyline fill=\"none\" stroke=\"black\" points=\"321,-69.5 409,-69.5 \"/>\n",
       "<text text-anchor=\"middle\" x=\"365\" y=\"-54.3\" font-family=\"Times,serif\" font-size=\"14.00\">flammability</text>\n",
       "<polyline fill=\"none\" stroke=\"black\" points=\"321,-46.5 409,-46.5 \"/>\n",
       "<text text-anchor=\"middle\" x=\"365\" y=\"-31.3\" font-family=\"Times,serif\" font-size=\"14.00\">weight</text>\n",
       "<polyline fill=\"none\" stroke=\"black\" points=\"321,-23.5 409,-23.5 \"/>\n",
       "<text text-anchor=\"middle\" x=\"365\" y=\"-8.3\" font-family=\"Times,serif\" font-size=\"14.00\">created</text>\n",
       "<polyline fill=\"none\" stroke=\"black\" points=\"409,-0.5 409,-92.5 \"/>\n",
       "<text text-anchor=\"middle\" x=\"516.5\" y=\"-77.3\" font-family=\"Times,serif\" font-size=\"14.00\">No this actually looks bad</text>\n",
       "<polyline fill=\"none\" stroke=\"black\" points=\"409,-69.5 624,-69.5 \"/>\n",
       "<text text-anchor=\"middle\" x=\"516.5\" y=\"-54.3\" font-family=\"Times,serif\" font-size=\"14.00\">0.9</text>\n",
       "<polyline fill=\"none\" stroke=\"black\" points=\"409,-46.5 624,-46.5 \"/>\n",
       "<text text-anchor=\"middle\" x=\"516.5\" y=\"-31.3\" font-family=\"Times,serif\" font-size=\"14.00\">0.5</text>\n",
       "<polyline fill=\"none\" stroke=\"black\" points=\"409,-23.5 624,-23.5 \"/>\n",
       "<text text-anchor=\"middle\" x=\"516.5\" y=\"-8.3\" font-family=\"Times,serif\" font-size=\"14.00\">2019&#45;10&#45;08 08:04:41.120522+00:00</text>\n",
       "</g>\n",
       "<!-- node_7_v1&#45;&gt;node_7_v2 -->\n",
       "<g id=\"edge4\" class=\"edge\"><title>node_7_v1&#45;&gt;node_7_v2</title>\n",
       "<path fill=\"none\" stroke=\"black\" stroke-dasharray=\"5,2\" d=\"M472.5,-152.291C472.5,-143.705 472.5,-134.777 472.5,-125.998\"/>\n",
       "<polygon fill=\"black\" stroke=\"black\" points=\"476,-125.789 472.5,-115.789 469,-125.789 476,-125.789\"/>\n",
       "</g>\n",
       "</g>\n",
       "</svg>\n"
      ],
      "text/plain": [
       "<graphviz.files.Source at 0x7f42fde70810>"
      ]
     },
     "execution_count": 11,
     "metadata": {},
     "output_type": "execute_result"
    }
   ],
   "source": [
    "# Finally, we can view the sample as an SVG graph through the ancestry object:\n",
    "sample.to_ancestry().to_svg()\n",
    "\n",
    "# It shows version changes with a dashed edge and parent/child relations with\n",
    "# an unbroken line"
   ]
  },
  {
   "cell_type": "code",
   "execution_count": 12,
   "metadata": {},
   "outputs": [],
   "source": [
    "# DETAILS FOR DEVELOPERS\n",
    "# The graph is built using graphviz. The source is generated by uncommenting\n",
    "# the following line\n",
    "\n",
    "# print(sample.to_ancestry().to_graphviz_src())"
   ]
  },
  {
   "cell_type": "code",
   "execution_count": 13,
   "metadata": {},
   "outputs": [
    {
     "data": {
      "image/svg+xml": [],
      "text/plain": [
       "<graphviz.files.Source at 0x7f42fde0e550>"
      ]
     },
     "execution_count": 13,
     "metadata": {},
     "output_type": "execute_result"
    }
   ],
   "source": [
    "# DETAILS FOR DEVELOPERS\n",
    "# You can then test the design by pasting in the source above here:\n",
    "# Look at the documentation here: http://www.graphviz.org/documentation/\n",
    "from graphviz import Source\n",
    "\n",
    "s = Source(\"\"\"\n",
    "# PASTE BELOW HERE \n",
    "\"\"\")\n",
    "s"
   ]
  },
  {
   "cell_type": "code",
   "execution_count": 16,
   "metadata": {},
   "outputs": [],
   "source": [
    "import random\n",
    "\n",
    "for x in range(100):\n",
    "    name = \"sample-{}\".format(random.randint(1, 1000000))\n",
    "    sample = WoodSample(name=name, organization=org)\n",
    "    sample.save()\n"
   ]
  },
  {
   "cell_type": "code",
   "execution_count": null,
   "metadata": {},
   "outputs": [],
   "source": []
  }
 ],
 "metadata": {
  "kernelspec": {
   "display_name": "Python 2",
   "language": "python",
   "name": "python2"
  },
  "language_info": {
   "codemirror_mode": {
    "name": "ipython",
    "version": 2
   },
   "file_extension": ".py",
   "mimetype": "text/x-python",
   "name": "python",
   "nbconvert_exporter": "python",
   "pygments_lexer": "ipython2",
   "version": "2.7.15"
  }
 },
 "nbformat": 4,
 "nbformat_minor": 2
}
