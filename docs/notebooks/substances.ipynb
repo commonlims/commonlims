{
 "cells": [
  {
   "cell_type": "code",
   "execution_count": 1,
   "metadata": {},
   "outputs": [
    {
     "name": "stderr",
     "output_type": "stream",
     "text": [
      "/home/stest683/.pyenv/versions/2.7.15/envs/clims2/lib/python2.7/site-packages/psycopg2/__init__.py:144: UserWarning: The psycopg2 wheel package will be renamed from release 2.8; in order to keep installing from binary please use \"pip install psycopg2-binary\" instead. For details see: <http://initd.org/psycopg/docs/install.html#binary-install-from-pypi>.\n",
      "  \"\"\")\n"
     ]
    },
    {
     "name": "stdout",
     "output_type": "stream",
     "text": [
      "Setup has run and default imports are available\n"
     ]
    }
   ],
   "source": [
    "%run ./startup.py"
   ]
  },
  {
   "cell_type": "markdown",
   "metadata": {},
   "source": [
    "# Substances \n",
    "\n",
    "Samples are instances of `Substance`s. `Substance`s in turn are what we call `Extensible`. Such objects can be extended by plugins in a simple way. \n",
    "\n",
    "## Creating a custom sample type\n",
    "\n",
    "Let's imagine that the Icelandic Wood Fibre Centre wants to install the LIMS for their research. They would probably require a sample type that is not that much alike one used in, let's say genomics.\n",
    "\n",
    "After discussions with domain specialists, they decide they need the following custom fields:\n",
    "\n",
    "* flammability \n",
    "* weight \n",
    "* width\n",
    "* comment\n",
    "\n",
    "In Commmon LIMS, this is defined in a plugin by creating a class that inherits from SubstanceBase: "
   ]
  },
  {
   "cell_type": "code",
   "execution_count": 2,
   "metadata": {},
   "outputs": [],
   "source": [
    "class WoodSample(SubstanceBase):\n",
    "    flammability = FloatField(\"flammability\") \n",
    "    weight = FloatField(\"weight\")\n",
    "    width = FloatField(\"width\")\n",
    "    comment = TextField(\"comment\")"
   ]
  },
  {
   "cell_type": "markdown",
   "metadata": {},
   "source": [
    "## Registering the new type\n",
    "\n",
    "To register the type, the user will just have to pip install their plugin and then run upgrade, like this:\n",
    "\n",
    "```\n",
    "pip install icelandic_wood_fibre_centre\n",
    "lims upgrade\n",
    "```\n",
    "\n",
    "Here, we'll simulate that with the equivelant programmatic version:"
   ]
  },
  {
   "cell_type": "code",
   "execution_count": 3,
   "metadata": {},
   "outputs": [
    {
     "data": {
      "text/plain": [
       "<ExtensibleType at 0x7f32773befd0: id=2L, name=u'__main__.WoodSample'>"
      ]
     },
     "execution_count": 3,
     "metadata": {},
     "output_type": "execute_result"
    }
   ],
   "source": [
    "from tests.clims import testutils\n",
    "plugin = testutils.create_plugin()\n",
    "testutils.register_extensible(WoodSample)"
   ]
  },
  {
   "cell_type": "markdown",
   "metadata": {},
   "source": [
    "## Using the newly registered type in handlers\n",
    "\n",
    "Plugin developers can now easily create samples of their custom type. Since the type is a `Substance` it will get the following features out of the box:\n",
    "\n",
    "* Immutability - all changes lead to new versions in the database\n",
    "* Version history\n",
    "* Ancestry: Create children (aliquots) from parent samples, retaining all the information from the parent\n",
    "\n",
    "Here are a few examples:"
   ]
  },
  {
   "cell_type": "code",
   "execution_count": 4,
   "metadata": {},
   "outputs": [
    {
     "name": "stdout",
     "output_type": "stream",
     "text": [
      "Created: sample-902494, version 1\n"
     ]
    }
   ],
   "source": [
    "# Create a new sample:\n",
    "import random\n",
    "name = \"sample-{}\".format(random.randint(1, 1000000))\n",
    "sample = WoodSample(name=name, organization=org)\n",
    "sample.save()\n",
    "\n",
    "print(\"Created: {}, version {}\".format(sample.name, sample.version))"
   ]
  },
  {
   "cell_type": "code",
   "execution_count": 5,
   "metadata": {},
   "outputs": [
    {
     "name": "stdout",
     "output_type": "stream",
     "text": [
      "Updated: sample-902494, version 2\n"
     ]
    }
   ],
   "source": [
    "# Now, let's add a few properties to this sample and see if the version changes:\n",
    "sample.flammability = 0.9\n",
    "sample.weight = 1\n",
    "sample.comment = \"Looks good to me!\"\n",
    "sample.save()\n",
    "\n",
    "print(\"Updated: {}, version {}\".format(sample.name, sample.version))"
   ]
  },
  {
   "cell_type": "code",
   "execution_count": 6,
   "metadata": {},
   "outputs": [
    {
     "name": "stdout",
     "output_type": "stream",
     "text": [
      "Created: sample-902494-aliquot, version 1\n"
     ]
    }
   ],
   "source": [
    "# Let's create an aliquot:\n",
    "aliquot = sample.create_child(name=sample.name + \"-aliquot\")\n",
    "print(\"Created: {}, version {}\".format(aliquot.name, aliquot.version))"
   ]
  },
  {
   "cell_type": "code",
   "execution_count": 7,
   "metadata": {},
   "outputs": [
    {
     "name": "stdout",
     "output_type": "stream",
     "text": [
      "0.9\n",
      "1.0\n",
      "Looks good to me!\n"
     ]
    }
   ],
   "source": [
    "# By default, this aliquot has the same values as the parent:\n",
    "\n",
    "print(aliquot.flammability)\n",
    "print(aliquot.weight)\n",
    "print(aliquot.comment)"
   ]
  },
  {
   "cell_type": "code",
   "execution_count": 8,
   "metadata": {},
   "outputs": [],
   "source": [
    "# It's up to the plugin handlers what happens to a sample, let's for example\n",
    "# cut the weight in half:\n",
    "\n",
    "aliquot.weight *= 0.5\n",
    "aliquot.comment = \"No this actually looks bad\"\n",
    "aliquot.save()\n",
    "sample.weight -= aliquot.weight\n",
    "sample.save()"
   ]
  },
  {
   "cell_type": "code",
   "execution_count": 9,
   "metadata": {},
   "outputs": [
    {
     "name": "stdout",
     "output_type": "stream",
     "text": [
      "0.9\n",
      "0.5\n",
      "No this actually looks bad\n"
     ]
    }
   ],
   "source": [
    "print(aliquot.flammability)\n",
    "print(aliquot.weight)\n",
    "print(aliquot.comment)"
   ]
  },
  {
   "cell_type": "markdown",
   "metadata": {},
   "source": [
    "## Viewing historical data"
   ]
  },
  {
   "cell_type": "code",
   "execution_count": 16,
   "metadata": {},
   "outputs": [
    {
     "name": "stdout",
     "output_type": "stream",
     "text": [
      "*** Sample property history ***\n",
      "1: {}\n",
      "2: {u'comment': u'Looks good to me!', u'flammability': 0.9, u'weight': 1.0}\n",
      "3: {u'comment': u'Looks good to me!', u'flammability': 0.9, u'weight': 0.5}\n",
      "\n",
      "\n",
      "*** Aliquot property history ***\n",
      "1: {u'comment': u'Looks good to me!', u'flammability': 0.9, u'weight': 1.0}\n",
      "2: {u'comment': u'No this actually looks bad', u'flammability': 0.9, u'weight': 0.5}\n",
      "\n",
      "\n"
     ]
    }
   ],
   "source": [
    "# We can trace the exact changes of both the aliquot and the sample\n",
    "# NOTE: The API for this will be more user friendly later\n",
    "\n",
    "def report(header, sample):\n",
    "    print(header)\n",
    "    for s in sample.iter_versions():\n",
    "        print(\"{}: {}\".format(\n",
    "            s.version, {key: prop.value for key, prop in s.properties.items()}))\n",
    "    print(\"\")\n",
    "    print(\"\")\n",
    "\n",
    "report(\"*** Sample property history ***\", sample)\n",
    "report(\"*** Aliquot property history ***\", aliquot)"
   ]
  },
  {
   "cell_type": "code",
   "execution_count": 11,
   "metadata": {},
   "outputs": [
    {
     "data": {
      "image/svg+xml": [
       "<?xml version=\"1.0\" encoding=\"UTF-8\" standalone=\"no\"?>\n",
       "<!DOCTYPE svg PUBLIC \"-//W3C//DTD SVG 1.1//EN\"\n",
       " \"http://www.w3.org/Graphics/SVG/1.1/DTD/svg11.dtd\">\n",
       "<!-- Generated by graphviz version 2.38.0 (20140413.2041)\n",
       " -->\n",
       "<!-- Title: structs Pages: 1 -->\n",
       "<svg width=\"304pt\" height=\"442pt\"\n",
       " viewBox=\"0.00 0.00 304.00 442.00\" xmlns=\"http://www.w3.org/2000/svg\" xmlns:xlink=\"http://www.w3.org/1999/xlink\">\n",
       "<g id=\"graph0\" class=\"graph\" transform=\"scale(1 1) rotate(0) translate(4 438)\">\n",
       "<title>structs</title>\n",
       "<polygon fill=\"white\" stroke=\"none\" points=\"-4,4 -4,-438 300,-438 300,4 -4,4\"/>\n",
       "<!-- node_6002_v1 -->\n",
       "<g id=\"node1\" class=\"node\"><title>node_6002_v1</title>\n",
       "<polygon fill=\"none\" stroke=\"black\" points=\"0,-129.5 0,-221.5 160,-221.5 160,-129.5 0,-129.5\"/>\n",
       "<text text-anchor=\"middle\" x=\"80\" y=\"-206.3\" font-family=\"Times,serif\" font-size=\"14.00\">sample&#45;902494&#45;aliquot.v1</text>\n",
       "<polyline fill=\"none\" stroke=\"black\" points=\"0,-198.5 160,-198.5 \"/>\n",
       "<text text-anchor=\"middle\" x=\"57\" y=\"-183.3\" font-family=\"Times,serif\" font-size=\"14.00\">comment</text>\n",
       "<polyline fill=\"none\" stroke=\"black\" points=\"0,-175.5 114,-175.5 \"/>\n",
       "<text text-anchor=\"middle\" x=\"57\" y=\"-160.3\" font-family=\"Times,serif\" font-size=\"14.00\">flammability</text>\n",
       "<polyline fill=\"none\" stroke=\"black\" points=\"0,-152.5 114,-152.5 \"/>\n",
       "<text text-anchor=\"middle\" x=\"57\" y=\"-137.3\" font-family=\"Times,serif\" font-size=\"14.00\">weight</text>\n",
       "<polyline fill=\"none\" stroke=\"black\" points=\"114,-129.5 114,-198.5 \"/>\n",
       "<text text-anchor=\"middle\" x=\"137\" y=\"-183.3\" font-family=\"Times,serif\" font-size=\"14.00\"> </text>\n",
       "<polyline fill=\"none\" stroke=\"black\" points=\"114,-175.5 160,-175.5 \"/>\n",
       "<text text-anchor=\"middle\" x=\"137\" y=\"-160.3\" font-family=\"Times,serif\" font-size=\"14.00\"> </text>\n",
       "<polyline fill=\"none\" stroke=\"black\" points=\"114,-152.5 160,-152.5 \"/>\n",
       "<text text-anchor=\"middle\" x=\"137\" y=\"-137.3\" font-family=\"Times,serif\" font-size=\"14.00\"> </text>\n",
       "</g>\n",
       "<!-- node_6002_v2 -->\n",
       "<g id=\"node2\" class=\"node\"><title>node_6002_v2</title>\n",
       "<polygon fill=\"none\" stroke=\"black\" points=\"0,-0.5 0,-92.5 160,-92.5 160,-0.5 0,-0.5\"/>\n",
       "<text text-anchor=\"middle\" x=\"80\" y=\"-77.3\" font-family=\"Times,serif\" font-size=\"14.00\">sample&#45;902494&#45;aliquot.v2</text>\n",
       "<polyline fill=\"none\" stroke=\"black\" points=\"0,-69.5 160,-69.5 \"/>\n",
       "<text text-anchor=\"middle\" x=\"57\" y=\"-54.3\" font-family=\"Times,serif\" font-size=\"14.00\">comment</text>\n",
       "<polyline fill=\"none\" stroke=\"black\" points=\"0,-46.5 114,-46.5 \"/>\n",
       "<text text-anchor=\"middle\" x=\"57\" y=\"-31.3\" font-family=\"Times,serif\" font-size=\"14.00\">flammability</text>\n",
       "<polyline fill=\"none\" stroke=\"black\" points=\"0,-23.5 114,-23.5 \"/>\n",
       "<text text-anchor=\"middle\" x=\"57\" y=\"-8.3\" font-family=\"Times,serif\" font-size=\"14.00\">weight</text>\n",
       "<polyline fill=\"none\" stroke=\"black\" points=\"114,-0.5 114,-69.5 \"/>\n",
       "<text text-anchor=\"middle\" x=\"137\" y=\"-54.3\" font-family=\"Times,serif\" font-size=\"14.00\"> </text>\n",
       "<polyline fill=\"none\" stroke=\"black\" points=\"114,-46.5 160,-46.5 \"/>\n",
       "<text text-anchor=\"middle\" x=\"137\" y=\"-31.3\" font-family=\"Times,serif\" font-size=\"14.00\"> </text>\n",
       "<polyline fill=\"none\" stroke=\"black\" points=\"114,-23.5 160,-23.5 \"/>\n",
       "<text text-anchor=\"middle\" x=\"137\" y=\"-8.3\" font-family=\"Times,serif\" font-size=\"14.00\"> </text>\n",
       "</g>\n",
       "<!-- node_6002_v1&#45;&gt;node_6002_v2 -->\n",
       "<g id=\"edge2\" class=\"edge\"><title>node_6002_v1&#45;&gt;node_6002_v2</title>\n",
       "<path fill=\"none\" stroke=\"black\" stroke-dasharray=\"5,2\" d=\"M80,-129.367C80,-120.86 80,-111.873 80,-103.09\"/>\n",
       "<polygon fill=\"black\" stroke=\"black\" points=\"83.5001,-102.916 80,-92.9156 76.5001,-102.916 83.5001,-102.916\"/>\n",
       "</g>\n",
       "<!-- node_6001_v1 -->\n",
       "<g id=\"node3\" class=\"node\"><title>node_6001_v1</title>\n",
       "<polygon fill=\"none\" stroke=\"black\" points=\"99,-387.5 99,-433.5 217,-433.5 217,-387.5 99,-387.5\"/>\n",
       "<text text-anchor=\"middle\" x=\"158\" y=\"-418.3\" font-family=\"Times,serif\" font-size=\"14.00\">sample&#45;902494.v1</text>\n",
       "<polyline fill=\"none\" stroke=\"black\" points=\"99,-410.5 217,-410.5 \"/>\n",
       "<text text-anchor=\"middle\" x=\"128.5\" y=\"-395.3\" font-family=\"Times,serif\" font-size=\"14.00\"> </text>\n",
       "<polyline fill=\"none\" stroke=\"black\" points=\"158,-387.5 158,-410.5 \"/>\n",
       "<text text-anchor=\"middle\" x=\"187.5\" y=\"-395.3\" font-family=\"Times,serif\" font-size=\"14.00\"> </text>\n",
       "</g>\n",
       "<!-- node_6001_v2 -->\n",
       "<g id=\"node4\" class=\"node\"><title>node_6001_v2</title>\n",
       "<polygon fill=\"none\" stroke=\"black\" points=\"99,-258.5 99,-350.5 217,-350.5 217,-258.5 99,-258.5\"/>\n",
       "<text text-anchor=\"middle\" x=\"158\" y=\"-335.3\" font-family=\"Times,serif\" font-size=\"14.00\">sample&#45;902494.v2</text>\n",
       "<polyline fill=\"none\" stroke=\"black\" points=\"99,-327.5 217,-327.5 \"/>\n",
       "<text text-anchor=\"middle\" x=\"145.5\" y=\"-312.3\" font-family=\"Times,serif\" font-size=\"14.00\">comment</text>\n",
       "<polyline fill=\"none\" stroke=\"black\" points=\"99,-304.5 192,-304.5 \"/>\n",
       "<text text-anchor=\"middle\" x=\"145.5\" y=\"-289.3\" font-family=\"Times,serif\" font-size=\"14.00\">flammability</text>\n",
       "<polyline fill=\"none\" stroke=\"black\" points=\"99,-281.5 192,-281.5 \"/>\n",
       "<text text-anchor=\"middle\" x=\"145.5\" y=\"-266.3\" font-family=\"Times,serif\" font-size=\"14.00\">weight</text>\n",
       "<polyline fill=\"none\" stroke=\"black\" points=\"192,-258.5 192,-327.5 \"/>\n",
       "<text text-anchor=\"middle\" x=\"204.5\" y=\"-312.3\" font-family=\"Times,serif\" font-size=\"14.00\"> </text>\n",
       "<polyline fill=\"none\" stroke=\"black\" points=\"192,-304.5 217,-304.5 \"/>\n",
       "<text text-anchor=\"middle\" x=\"204.5\" y=\"-289.3\" font-family=\"Times,serif\" font-size=\"14.00\"> </text>\n",
       "<polyline fill=\"none\" stroke=\"black\" points=\"192,-281.5 217,-281.5 \"/>\n",
       "<text text-anchor=\"middle\" x=\"204.5\" y=\"-266.3\" font-family=\"Times,serif\" font-size=\"14.00\"> </text>\n",
       "</g>\n",
       "<!-- node_6001_v1&#45;&gt;node_6001_v2 -->\n",
       "<g id=\"edge3\" class=\"edge\"><title>node_6001_v1&#45;&gt;node_6001_v2</title>\n",
       "<path fill=\"none\" stroke=\"black\" stroke-dasharray=\"5,2\" d=\"M158,-387.444C158,-379.563 158,-370.288 158,-360.866\"/>\n",
       "<polygon fill=\"black\" stroke=\"black\" points=\"161.5,-360.643 158,-350.643 154.5,-360.643 161.5,-360.643\"/>\n",
       "</g>\n",
       "<!-- node_6001_v2&#45;&gt;node_6002_v1 -->\n",
       "<g id=\"edge1\" class=\"edge\"><title>node_6001_v2&#45;&gt;node_6002_v1</title>\n",
       "<path fill=\"none\" stroke=\"black\" d=\"M130.28,-258.367C124.772,-249.398 118.935,-239.895 113.264,-230.66\"/>\n",
       "<polygon fill=\"black\" stroke=\"black\" points=\"116.109,-228.605 107.893,-221.916 110.144,-232.269 116.109,-228.605\"/>\n",
       "</g>\n",
       "<!-- node_6001_v3 -->\n",
       "<g id=\"node5\" class=\"node\"><title>node_6001_v3</title>\n",
       "<polygon fill=\"none\" stroke=\"black\" points=\"178,-129.5 178,-221.5 296,-221.5 296,-129.5 178,-129.5\"/>\n",
       "<text text-anchor=\"middle\" x=\"237\" y=\"-206.3\" font-family=\"Times,serif\" font-size=\"14.00\">sample&#45;902494.v3</text>\n",
       "<polyline fill=\"none\" stroke=\"black\" points=\"178,-198.5 296,-198.5 \"/>\n",
       "<text text-anchor=\"middle\" x=\"224.5\" y=\"-183.3\" font-family=\"Times,serif\" font-size=\"14.00\">comment</text>\n",
       "<polyline fill=\"none\" stroke=\"black\" points=\"178,-175.5 271,-175.5 \"/>\n",
       "<text text-anchor=\"middle\" x=\"224.5\" y=\"-160.3\" font-family=\"Times,serif\" font-size=\"14.00\">flammability</text>\n",
       "<polyline fill=\"none\" stroke=\"black\" points=\"178,-152.5 271,-152.5 \"/>\n",
       "<text text-anchor=\"middle\" x=\"224.5\" y=\"-137.3\" font-family=\"Times,serif\" font-size=\"14.00\">weight</text>\n",
       "<polyline fill=\"none\" stroke=\"black\" points=\"271,-129.5 271,-198.5 \"/>\n",
       "<text text-anchor=\"middle\" x=\"283.5\" y=\"-183.3\" font-family=\"Times,serif\" font-size=\"14.00\"> </text>\n",
       "<polyline fill=\"none\" stroke=\"black\" points=\"271,-175.5 296,-175.5 \"/>\n",
       "<text text-anchor=\"middle\" x=\"283.5\" y=\"-160.3\" font-family=\"Times,serif\" font-size=\"14.00\"> </text>\n",
       "<polyline fill=\"none\" stroke=\"black\" points=\"271,-152.5 296,-152.5 \"/>\n",
       "<text text-anchor=\"middle\" x=\"283.5\" y=\"-137.3\" font-family=\"Times,serif\" font-size=\"14.00\"> </text>\n",
       "</g>\n",
       "<!-- node_6001_v2&#45;&gt;node_6001_v3 -->\n",
       "<g id=\"edge4\" class=\"edge\"><title>node_6001_v2&#45;&gt;node_6001_v3</title>\n",
       "<path fill=\"none\" stroke=\"black\" stroke-dasharray=\"5,2\" d=\"M186.075,-258.367C191.654,-249.398 197.566,-239.895 203.31,-230.66\"/>\n",
       "<polygon fill=\"black\" stroke=\"black\" points=\"206.439,-232.256 208.749,-221.916 200.495,-228.558 206.439,-232.256\"/>\n",
       "</g>\n",
       "</g>\n",
       "</svg>\n"
      ],
      "text/plain": [
       "<graphviz.files.Source at 0x7f3276b1b450>"
      ]
     },
     "execution_count": 11,
     "metadata": {},
     "output_type": "execute_result"
    }
   ],
   "source": [
    "# Finally, we can view the sample as an SVG graph through the ancestry object:\n",
    "sample.to_ancestry().to_svg()\n",
    "\n",
    "# It shows version changes with a dashed edge and parent/child relations with\n",
    "# an unbroken line"
   ]
  },
  {
   "cell_type": "code",
   "execution_count": 12,
   "metadata": {},
   "outputs": [],
   "source": [
    "# DETAILS FOR DEVELOPERS\n",
    "# The graph is built using graphviz. The source is generated by uncommenting\n",
    "# the following line\n",
    "\n",
    "# print(sample.to_ancestry().to_graphviz_src())"
   ]
  },
  {
   "cell_type": "code",
   "execution_count": 13,
   "metadata": {},
   "outputs": [
    {
     "data": {
      "image/svg+xml": [],
      "text/plain": [
       "<graphviz.files.Source at 0x7f3276acc790>"
      ]
     },
     "execution_count": 13,
     "metadata": {},
     "output_type": "execute_result"
    }
   ],
   "source": [
    "# DETAILS FOR DEVELOPERS\n",
    "# You can then test the design by pasting in the source above here:\n",
    "# Look at the documentation here: http://www.graphviz.org/documentation/\n",
    "from graphviz import Source\n",
    "\n",
    "s = Source(\"\"\"\n",
    "# PASTE BELOW HERE \n",
    "\"\"\")\n",
    "s"
   ]
  },
  {
   "cell_type": "code",
   "execution_count": null,
   "metadata": {},
   "outputs": [],
   "source": []
  }
 ],
 "metadata": {
  "kernelspec": {
   "display_name": "Python 2",
   "language": "python",
   "name": "python2"
  },
  "language_info": {
   "codemirror_mode": {
    "name": "ipython",
    "version": 2
   },
   "file_extension": ".py",
   "mimetype": "text/x-python",
   "name": "python",
   "nbconvert_exporter": "python",
   "pygments_lexer": "ipython2",
   "version": "2.7.15"
  }
 },
 "nbformat": 4,
 "nbformat_minor": 2
}
