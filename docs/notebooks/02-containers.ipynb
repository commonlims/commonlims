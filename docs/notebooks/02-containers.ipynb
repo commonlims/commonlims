{
 "cells": [
  {
   "cell_type": "code",
   "execution_count": 1,
   "metadata": {},
   "outputs": [],
   "source": [
    "%%capture\n",
    "%run ./startup-containers.py"
   ]
  },
  {
   "cell_type": "markdown",
   "metadata": {},
   "source": [
    "# Containers\n",
    "\n",
    "While samples are probably the most important part of your LIMS, they are not worth much if you can't locate them easily.\n",
    "\n",
    "In Common LIMS, containers are flexible and defined by end users in plugins, just as the Substances you just learned about.\n",
    "\n",
    "Let's return to the Icelandic Wood Fibre Centre which requires containers for their newly created WoodSample type. Their default containers are 12x6 plates (made of wood). Let's define the model:"
   ]
  },
  {
   "cell_type": "code",
   "execution_count": 2,
   "metadata": {},
   "outputs": [
    {
     "data": {
      "text/plain": [
       "<ExtensibleType at 0x7f7bd2bfb390: id=5L, name=u'__main__.WoodFibreContainer'>"
      ]
     },
     "execution_count": 2,
     "metadata": {},
     "output_type": "execute_result"
    }
   ],
   "source": [
    "class WoodFibreContainer(PlateBase):\n",
    "    traverse_by = PlateBase.TRAVERSE_BY_ROW\n",
    "    rows = 12 \n",
    "    columns = 6\n",
    "    comment = TextField(\"comment\")\n",
    "\n",
    "# NOTE: This registration will happen automatically when you run `lims upgrade`\n",
    "app.extensibles.register(notebook_plugin, WoodFibreContainer)"
   ]
  },
  {
   "cell_type": "markdown",
   "metadata": {},
   "source": [
    "We've only defined one custom property, the `comment`. It has a version history just like the sample, so any change can be traced easily.\n",
    "\n",
    "Let's create a full plate of samples by using the `append` method on the container. It will by default fill the rows \"by row\", i.e. it will fill a full row before moving on to the next one. "
   ]
  },
  {
   "cell_type": "code",
   "execution_count": 12,
   "metadata": {},
   "outputs": [
    {
     "name": "stdout",
     "output_type": "stream",
     "text": [
      "Created 72 samples in 0.330195903778 ms\n",
      "sample-0d37709e-bb6f-4885-b803-b12e2ee5aef7\n",
      "<Location at 0x7f7baacde8d0: id=1219L, x=0, y=0, z=0>\n",
      "sample-ae1263ad-30ce-4f85-b3c8-b1d490dc8199\n",
      "<Location at 0x7f7baacdeed0: id=1208L, x=1, y=0, z=0>\n",
      "sample-dfdb5e3a-517a-49c5-8027-f4eac3d0fde0\n",
      "<Location at 0x7f7baacde710: id=1251L, x=2, y=0, z=0>\n",
      "sample-613a870f-8e00-4a3a-975f-46ec529cabc3\n",
      "<Location at 0x7f7baacc25d0: id=1260L, x=3, y=0, z=0>\n",
      "sample-cbc82062-dbfa-4d21-b911-60151774e951\n",
      "<Location at 0x7f7baacc2a90: id=1254L, x=4, y=0, z=0>\n",
      "sample-aad77b36-c4b1-4476-bae9-c8bc26ea2e45\n",
      "<Location at 0x7f7baacc2f50: id=1257L, x=5, y=0, z=0>\n",
      "sample-b88bbfb9-d3a4-48f6-9523-8e2a49f7426f\n",
      "<Location at 0x7f7baaccd590: id=1259L, x=0, y=1, z=0>\n",
      "sample-7385a7bd-58bc-47c5-a3d1-55f682da05bf\n",
      "<Location at 0x7f7baacc2790: id=1232L, x=1, y=1, z=0>\n",
      "sample-52dbb226-41c8-45c4-8548-6a7b066a96d3\n",
      "<Location at 0x7f7baacc2490: id=1225L, x=2, y=1, z=0>\n",
      "sample-1ad9efcd-5a6e-47f7-8882-bc2f4918b9ee\n",
      "<Location at 0x7f7baacc2890: id=1228L, x=3, y=1, z=0>\n"
     ]
    }
   ],
   "source": [
    "import time\n",
    "start = time.time()\n",
    "container = WoodFibreContainer(name=unique_name('cont'), organization=org)\n",
    "names = list()\n",
    "for ix in range(container.rows * container.columns):\n",
    "    sample = WoodSample(name=unique_name(\"sample\"), organization=org)\n",
    "    names.append(sample.name)\n",
    "    container.append(sample)\n",
    "container.save()\n",
    "elapsed = time.time() - start\n",
    "print(\"Created {} samples in {} ms\".format(container.rows * container.columns, elapsed))\n",
    "\n",
    "for sample_name in names[0:10]:\n",
    "    print(sample_name)\n",
    "    sample = app.substances.get(sample_name)\n",
    "    print(sample._wrapped_version.archetype.location)"
   ]
  },
  {
   "cell_type": "code",
   "execution_count": null,
   "metadata": {},
   "outputs": [],
   "source": []
  }
 ],
 "metadata": {
  "kernelspec": {
   "display_name": "Python 2",
   "language": "python",
   "name": "python2"
  },
  "language_info": {
   "codemirror_mode": {
    "name": "ipython",
    "version": 2
   },
   "file_extension": ".py",
   "mimetype": "text/x-python",
   "name": "python",
   "nbconvert_exporter": "python",
   "pygments_lexer": "ipython2",
   "version": "2.7.15"
  }
 },
 "nbformat": 4,
 "nbformat_minor": 2
}
