{
 "cells": [
  {
   "cell_type": "code",
   "execution_count": 1,
   "metadata": {},
   "outputs": [],
   "source": [
    "%%capture\n",
    "%run ./startup-containers.py"
   ]
  },
  {
   "cell_type": "markdown",
   "metadata": {},
   "source": [
    "# Containers\n",
    "\n",
    "While samples are probably the most important part of your LIMS, they are not worth much if you can't locate them easily.\n",
    "\n",
    "In Common LIMS, containers are flexible and defined by end users in plugins, just as the Substances you just learned about.\n",
    "\n",
    "Let's return to the Icelandic Wood Fibre Centre which requires containers for their newly created WoodSample type. Their default containers are 12x6 plates (made of wood). Let's define the model:"
   ]
  },
  {
   "cell_type": "code",
   "execution_count": 2,
   "metadata": {},
   "outputs": [
    {
     "data": {
      "text/plain": [
       "<ExtensibleType at 0x7fc4cf8bdc90: id=5L, name=u'__main__.WoodFibreContainer'>"
      ]
     },
     "execution_count": 2,
     "metadata": {},
     "output_type": "execute_result"
    }
   ],
   "source": [
    "class WoodFibreContainer(PlateBase):\n",
    "    traverse_by = PlateBase.TRAVERSE_BY_ROW\n",
    "    rows = 12 \n",
    "    columns = 6\n",
    "    comment = TextField(\"comment\")\n",
    "\n",
    "# NOTE: This registration will happen automatically when you run `lims upgrade`\n",
    "app.extensibles.register(notebook_plugin, WoodFibreContainer)"
   ]
  },
  {
   "cell_type": "markdown",
   "metadata": {},
   "source": [
    "We've only defined one custom property, the `comment`. It has a version history just like the sample, so any change can be traced easily.\n",
    "\n",
    "Let's create a full plate of samples by using the `append` method on the container. It will by default fill the rows \"by row\", i.e. it will fill a full row before moving on to the next one. "
   ]
  },
  {
   "cell_type": "code",
   "execution_count": 3,
   "metadata": {},
   "outputs": [
    {
     "name": "stdout",
     "output_type": "stream",
     "text": [
      "Created 72 samples in 0.291502952576 ms\n"
     ]
    }
   ],
   "source": [
    "import time\n",
    "start = time.time()\n",
    "container = WoodFibreContainer(name=unique_name('cont'), organization=org)\n",
    "for ix in range(container.rows * container.columns - 10):\n",
    "    sample = WoodSample(name=unique_name(\"sample\"), organization=org)\n",
    "    container.append(sample)\n",
    "container.save()\n",
    "elapsed = time.time() - start\n",
    "print(\"Created {} samples in {} ms\".format(container.rows * container.columns, elapsed))\n",
    "\n",
    "# Here is how to get the container again by name \n",
    "container = app.containers.get(container.name)"
   ]
  },
  {
   "cell_type": "markdown",
   "metadata": {},
   "source": [
    "Developers might appreciate that one can easily visualize the container textually while debugging:"
   ]
  },
  {
   "cell_type": "code",
   "execution_count": 4,
   "metadata": {},
   "outputs": [
    {
     "name": "stdout",
     "output_type": "stream",
     "text": [
      "58557|58521|58546|58571|58536|58561\n",
      "58575|58564|58565|58553|58555|58544\n",
      "58533|58545|58570|58548|58573|58524\n",
      "58552|58525|58527|58529|58531|58566\n",
      "58530|58535|58551|58558|58523|58516\n",
      "58519|58576|58542|58568|58543|58528\n",
      "58522|58559|58572|58537|58560|58540\n",
      "58532|58541|58562|58547|58515|58550\n",
      "58534|58556|58554|58538|58563|58526\n",
      "58549|58574|58539|58518|58520|58569\n",
      "58567|58517|     |     |     |     \n",
      "     |     |     |     |     |     \n",
      "58557: sample-8ec5a0da-e5d9-4e6b-afb3-51d5424d93c4\n",
      "58564: sample-da4bfaa8-d2aa-4ff4-abe9-1b5bad8c718c\n",
      "58570: sample-816ae990-7e71-4559-ae06-9a70747c8166\n",
      "58567: sample-e658eac4-b642-4a1e-8ad0-8df0f989b762\n"
     ]
    }
   ],
   "source": [
    "# the to_string method writes out the whole container. By default it shows the ids\n",
    "# of each sample. (It gives more information than __str__):\n",
    "print(container.to_string())\n",
    "\n",
    "# Since we're using a PlateBase, we can address each cell with the common\n",
    "# `<letter>[:]<number>` addressing scheme (case insensitive)\n",
    "a1 = container[\"A1\"]\n",
    "b2 = container[\"B:2\"]\n",
    "c3 = container[\"c3\"]\n",
    "k1 = container[\"k1\"]\n",
    "\n",
    "def sample_to_string(sample):\n",
    "    if sample is None:\n",
    "        return \"\"\n",
    "    return \"{}: {}\".format(sample.id, sample.name)\n",
    "\n",
    "for sample in [a1, b2, c3, k1]:\n",
    "    print(sample_to_string(sample))\n",
    "    "
   ]
  },
  {
   "cell_type": "code",
   "execution_count": 5,
   "metadata": {},
   "outputs": [
    {
     "name": "stdout",
     "output_type": "stream",
     "text": [
      "sample-8e|sample-b6|sample-3b|sample-19|sample-13|sample-b5\n",
      "sample-79|sample-da|sample-dd|sample-a0|sample-a7|sample-b5\n",
      "sample-c7|sample-86|sample-81|sample-00|sample-75|sample-d5\n",
      "sample-b3|sample-84|sample-1f|sample-5c|sample-77|sample-1b\n",
      "sample-19|sample-33|sample-c0|sample-48|sample-f6|sample-af\n",
      "sample-2d|sample-22|sample-6d|sample-cc|sample-46|sample-09\n",
      "sample-af|sample-37|sample-86|sample-0f|sample-61|sample-d7\n",
      "sample-b4|sample-2d|sample-cf|sample-f7|sample-00|sample-b1\n",
      "sample-8f|sample-3d|sample-18|sample-59|sample-3f|sample-f0\n",
      "sample-21|sample-59|sample-c8|sample-f3|sample-a8|sample-1a\n",
      "sample-e6|sample-e1|         |         |         |         \n",
      "         |         |         |         |         |         \n"
     ]
    }
   ],
   "source": [
    "# This is all well (pun of course intended) and good, but we can provide a format string for\n",
    "# each cell:\n",
    "print(container.to_string(format_fn=lambda x: x.name[0:9] if x else \"\"))"
   ]
  },
  {
   "cell_type": "code",
   "execution_count": null,
   "metadata": {},
   "outputs": [],
   "source": []
  }
 ],
 "metadata": {
  "kernelspec": {
   "display_name": "Python 2",
   "language": "python",
   "name": "python2"
  },
  "language_info": {
   "codemirror_mode": {
    "name": "ipython",
    "version": 2
   },
   "file_extension": ".py",
   "mimetype": "text/x-python",
   "name": "python",
   "nbconvert_exporter": "python",
   "pygments_lexer": "ipython2",
   "version": "2.7.15"
  }
 },
 "nbformat": 4,
 "nbformat_minor": 2
}
